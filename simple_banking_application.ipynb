{
 "cells": [
  {
   "cell_type": "markdown",
   "metadata": {
    "collapsed": false,
    "jupyter": {
     "outputs_hidden": false
    }
   },
   "source": [
    "## Exercise 19"
   ]
  },
  {
   "cell_type": "code",
   "execution_count": 10,
   "metadata": {
    "ExecuteTime": {
     "end_time": "2023-12-21T10:01:48.397357800Z",
     "start_time": "2023-12-21T10:01:48.373532500Z"
    }
   },
   "outputs": [],
   "source": [
    "class InsufficientFundsError(Exception):\n",
    "    def __init__(self, amount, msg='Failed'):\n",
    "        self.amount = amount\n",
    "        self.msg = f'Error {self.amount} : {msg}'\n",
    "        super().__init__(self.msg)\n",
    "\n",
    "class InvalidTransactionError(Exception):\n",
    "    def __init__(self, amount, msg='Failed'):\n",
    "        self.amount = amount\n",
    "        self.msg = f'Error {self.amount} : {msg}'\n",
    "        super().__init__(self.msg)\n",
    "\n",
    "class BankAccount:\n",
    "    def __init__(self, account_number, balance = 0):\n",
    "        self.__account_number = account_number\n",
    "        self.__balance = balance\n",
    "\n",
    "    def deposit(self, amount):\n",
    "        if amount < 0:\n",
    "            raise InvalidTransactionError('Deposit can not be negative')\n",
    "        self.__balance += amount\n",
    "        print(f'deposited ${amount}. new balance: ${self.__balance}')\n",
    "\n",
    "    def withdraw(self, amount):\n",
    "        if amount < 0:\n",
    "            raise InvalidTransactionError('Withdraw can not be negative')\n",
    "        if amount > self.__balance:\n",
    "            raise InsufficientFundsError('Insufficient funds for withdraw')\n",
    "        self.__balance -= amount\n",
    "        print(f'withdraw ${amount}. new withdraw: ${self.__balance}')\n",
    "\n",
    "    @property\n",
    "    def balance(self):\n",
    "        return self.__balance\n",
    "\n",
    "    @property\n",
    "    def account_number(self):\n",
    "        return self.__account_number\n",
    "            "
   ]
  },
  {
   "cell_type": "code",
   "execution_count": 7,
   "metadata": {
    "ExecuteTime": {
     "end_time": "2023-12-21T10:01:49.974343300Z",
     "start_time": "2023-12-21T10:01:49.906660700Z"
    }
   },
   "outputs": [
    {
     "name": "stdout",
     "output_type": "stream",
     "text": [
      "initial balance for account 1234 is : 1000\n",
      "initial balance for account1 2345 is : 2000\n"
     ]
    }
   ],
   "source": [
    "account = BankAccount('1234', 1000)\n",
    "account1 = BankAccount('2345', 2000)\n",
    "print(f'initial balance for account {account.account_number} is : {account.balance}')\n",
    "print(f'initial balance for account1 {account1.account_number} is : {account1.balance}')"
   ]
  },
  {
   "cell_type": "code",
   "execution_count": 8,
   "metadata": {
    "collapsed": false,
    "jupyter": {
     "outputs_hidden": false
    }
   },
   "outputs": [
    {
     "name": "stdout",
     "output_type": "stream",
     "text": [
      "Error Deposit can not be negative : Failed\n"
     ]
    }
   ],
   "source": [
    "try:\n",
    "    account.deposit(-1)\n",
    "except InvalidTransactionError as e:\n",
    "    print(e)"
   ]
  },
  {
   "cell_type": "code",
   "execution_count": 11,
   "metadata": {},
   "outputs": [
    {
     "name": "stdout",
     "output_type": "stream",
     "text": [
      "Error Insufficient funds for withdraw : Failed\n"
     ]
    }
   ],
   "source": [
    "try:\n",
    "    account.withdraw(1200)\n",
    "except InsufficientFundsError as e:\n",
    "    print(e)"
   ]
  },
  {
   "cell_type": "code",
   "execution_count": null,
   "metadata": {},
   "outputs": [],
   "source": []
  }
 ],
 "metadata": {
  "kernelspec": {
   "display_name": "Python 3 (ipykernel)",
   "language": "python",
   "name": "python3"
  },
  "language_info": {
   "codemirror_mode": {
    "name": "ipython",
    "version": 3
   },
   "file_extension": ".py",
   "mimetype": "text/x-python",
   "name": "python",
   "nbconvert_exporter": "python",
   "pygments_lexer": "ipython3",
   "version": "3.11.5"
  }
 },
 "nbformat": 4,
 "nbformat_minor": 4
}
